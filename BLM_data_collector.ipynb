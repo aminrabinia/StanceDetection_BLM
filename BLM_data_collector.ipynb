{
  "nbformat": 4,
  "nbformat_minor": 0,
  "metadata": {
    "colab": {
      "name": "BLM_data_collector.ipynb",
      "provenance": [],
      "collapsed_sections": []
    },
    "kernelspec": {
      "name": "python3",
      "display_name": "Python 3"
    }
  },
  "cells": [
    {
      "cell_type": "code",
      "metadata": {
        "id": "5Uj2cgFa0I3d",
        "colab_type": "code",
        "colab": {}
      },
      "source": [
        "import os\n",
        "import tweepy as tw\n",
        "import pandas as pd\n",
        "from google.colab import files\n",
        "\n",
        "consumer_key=''\n",
        "consumer_secret=''                      \n",
        "access_token_key='-'\n",
        "access_token_secret=''\n",
        "\n",
        "auth = tw.OAuthHandler(consumer_key, consumer_secret)\n",
        "auth.set_access_token(access_token_key, access_token_secret)\n",
        "api = tw.API(auth, wait_on_rate_limit=True)\n"
      ],
      "execution_count": 0,
      "outputs": []
    },
    {
      "cell_type": "code",
      "metadata": {
        "id": "9Sgycemk2BFA",
        "colab_type": "code",
        "outputId": "2947a899-2116-4ac7-c48e-86fbddf68d7c",
        "colab": {
          "base_uri": "https://localhost:8080/",
          "height": 34
        }
      },
      "source": [
        "search_words='#BLM'+ \" -filter:retweets\"\n",
        "date_since='2020-06-5'\n",
        "\n",
        "tweets = tw.Cursor(api.search,\n",
        "              q=search_words,\n",
        "              lang=\"en\",\n",
        "              since=date_since).items(1000)\n",
        "tweets"
      ],
      "execution_count": 28,
      "outputs": [
        {
          "output_type": "execute_result",
          "data": {
            "text/plain": [
              "<tweepy.cursor.ItemIterator at 0x7f681a04a5c0>"
            ]
          },
          "metadata": {
            "tags": []
          },
          "execution_count": 28
        }
      ]
    },
    {
      "cell_type": "code",
      "metadata": {
        "id": "v9O3O6Sk4Lsv",
        "colab_type": "code",
        "colab": {
          "base_uri": "https://localhost:8080/",
          "height": 54
        },
        "outputId": "2d8d0855-4db7-40d9-e946-59bde9b03e2a"
      },
      "source": [
        "mylist=[]\n",
        "\n",
        "for tweet in tweets:\n",
        "  mylist.append([tweet.created_at, tweet.user.location, tweet.user.screen_name,tweet.user.followers_count, tweet.text, tweet.favorite_count, tweet.retweet_count])\n",
        "print(mylist[-1])"
      ],
      "execution_count": 29,
      "outputs": [
        {
          "output_type": "stream",
          "text": [
            "[datetime.datetime(2020, 6, 11, 13, 15, 31), '', 'NFLDIMEDROP', 44, '@biakabutuka21 People need to understand that history is history. If you are so fragile that you have to erase it l… https://t.co/NKarrXyFVL', 0, 0]\n"
          ],
          "name": "stdout"
        }
      ]
    },
    {
      "cell_type": "code",
      "metadata": {
        "id": "-qiKIBp5gQhl",
        "colab_type": "code",
        "colab": {
          "base_uri": "https://localhost:8080/",
          "height": 34
        },
        "outputId": "cd6537a2-3a86-4272-dfbc-cafc7b79f7e8"
      },
      "source": [
        "\n",
        "newdf=pd.DataFrame(mylist,columns=['data time','location','user','followers','text','likes','retweets'])\n",
        "writer = pd.ExcelWriter('newTweets.xlsx')\n",
        "newdf.to_excel(writer, 'newsheet' )\n",
        "writer.save()\n",
        "!dir"
      ],
      "execution_count": 30,
      "outputs": [
        {
          "output_type": "stream",
          "text": [
            "newTweets.xlsx\tsample_data\n"
          ],
          "name": "stdout"
        }
      ]
    },
    {
      "cell_type": "code",
      "metadata": {
        "id": "wyHn69-CgYLa",
        "colab_type": "code",
        "colab": {}
      },
      "source": [
        "files.download('newTweets.xlsx')"
      ],
      "execution_count": 0,
      "outputs": []
    }
  ]
}