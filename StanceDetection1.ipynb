{
  "nbformat": 4,
  "nbformat_minor": 0,
  "metadata": {
    "colab": {
      "name": "StanceDetection1.ipynb",
      "provenance": [],
      "collapsed_sections": [],
      "authorship_tag": "ABX9TyMm02e4l9GNYNv0zRieYFjp",
      "include_colab_link": true
    },
    "kernelspec": {
      "name": "python3",
      "display_name": "Python 3"
    }
  },
  "cells": [
    {
      "cell_type": "markdown",
      "metadata": {
        "id": "view-in-github",
        "colab_type": "text"
      },
      "source": [
        "<a href=\"https://colab.research.google.com/github/aminrabinia/StanceDetection_BLM/blob/master/StanceDetection1.ipynb\" target=\"_parent\"><img src=\"https://colab.research.google.com/assets/colab-badge.svg\" alt=\"Open In Colab\"/></a>"
      ]
    },
    {
      "cell_type": "code",
      "metadata": {
        "id": "ROrpqllT5xRY",
        "colab_type": "code",
        "colab": {
          "base_uri": "https://localhost:8080/",
          "height": 34
        },
        "outputId": "52ce3148-28fa-4005-871f-4263c67d9f41"
      },
      "source": [
        "import numpy as np\n",
        "import pandas as pd\n",
        "from google.colab import files\n",
        "\n",
        "from gensim import corpora\n",
        "from nltk.corpus import stopwords\n",
        "from nltk.tokenize import word_tokenize \n",
        "from nltk.stem import SnowballStemmer\n",
        "import nltk\n",
        "\n",
        "import keras\n",
        "from keras.preprocessing import sequence\n",
        "from keras.utils import np_utils\n",
        "from keras.models import Sequential\n",
        "from keras.layers import Dense, Dropout, Activation, Embedding\n",
        "from keras.layers import LSTM, GRU, SimpleRNN\n",
        "from sklearn import preprocessing\n",
        "from sklearn.metrics import (precision_score, recall_score,\n",
        "                             f1_score, accuracy_score,mean_squared_error,mean_absolute_error)\n",
        "np.random.seed(0)\n",
        "from keras import callbacks\n",
        "from keras.callbacks import ModelCheckpoint, EarlyStopping, ReduceLROnPlateau, CSVLogger\n",
        "   "
      ],
      "execution_count": 1,
      "outputs": [
        {
          "output_type": "stream",
          "text": [
            "Using TensorFlow backend.\n"
          ],
          "name": "stderr"
        }
      ]
    },
    {
      "cell_type": "code",
      "metadata": {
        "id": "YForlTce7gbS",
        "colab_type": "code",
        "colab": {
          "resources": {
            "http://localhost:8080/nbextensions/google.colab/files.js": {
              "data": "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",
              "ok": true,
              "headers": [
                [
                  "content-type",
                  "application/javascript"
                ]
              ],
              "status": 200,
              "status_text": ""
            }
          },
          "base_uri": "https://localhost:8080/",
          "height": 89
        },
        "outputId": "3337ffd5-bf28-42e9-e77e-9927376c838f"
      },
      "source": [
        "data_upload=files.upload()\n",
        "!dir"
      ],
      "execution_count": 2,
      "outputs": [
        {
          "output_type": "display_data",
          "data": {
            "text/html": [
              "\n",
              "     <input type=\"file\" id=\"files-ec9c1197-6a45-4d1f-9241-2a50bbd5451e\" name=\"files[]\" multiple disabled\n",
              "        style=\"border:none\" />\n",
              "     <output id=\"result-ec9c1197-6a45-4d1f-9241-2a50bbd5451e\">\n",
              "      Upload widget is only available when the cell has been executed in the\n",
              "      current browser session. Please rerun this cell to enable.\n",
              "      </output>\n",
              "      <script src=\"/nbextensions/google.colab/files.js\"></script> "
            ],
            "text/plain": [
              "<IPython.core.display.HTML object>"
            ]
          },
          "metadata": {
            "tags": []
          }
        },
        {
          "output_type": "stream",
          "text": [
            "Saving train.csv to train.csv\n",
            "sample_data  train.csv\n"
          ],
          "name": "stdout"
        }
      ]
    },
    {
      "cell_type": "code",
      "metadata": {
        "id": "f0Ts4NlT568W",
        "colab_type": "code",
        "colab": {
          "base_uri": "https://localhost:8080/",
          "height": 34
        },
        "outputId": "90f672cb-ddd1-4bed-db70-be2ceed6d0fc"
      },
      "source": [
        "train_df = pd.read_csv('train.csv',index_col=None, header=0, engine='python')\n",
        "raw_docs_train=[]\n",
        "classlabels1=[]\n",
        "\n",
        "for i,row in train_df.iterrows():\n",
        "  if row[1] =='Hillary Clinton':\n",
        "\n",
        "    raw_docs_train.append( row['Tweet'])\n",
        "    classlabels1.append( row['Stance'])\n",
        "\n",
        "print(len(classlabels1))\n",
        "#print(raw_docs_train[50])\n"
      ],
      "execution_count": 3,
      "outputs": [
        {
          "output_type": "stream",
          "text": [
            "984\n"
          ],
          "name": "stdout"
        }
      ]
    },
    {
      "cell_type": "code",
      "metadata": {
        "id": "4LshlklL8ROe",
        "colab_type": "code",
        "colab": {
          "base_uri": "https://localhost:8080/",
          "height": 102
        },
        "outputId": "8caa1bdc-279e-4319-e29f-61d8d1c21214"
      },
      "source": [
        "nltk.download('stopwords')\n",
        "nltk.download('punkt')\n",
        "stop_words = set(stopwords.words('english'))\n",
        "stop_words.update(['.', ',', '\"', \"'\", ':', ';', '(', ')', '[', ']', '{', '}'])\n",
        "stop_words.remove('no')\n",
        "stop_words.remove('not')\n",
        "stemmer = SnowballStemmer('english')\n",
        "\n",
        "processed_docs_train = []\n",
        "for doc in raw_docs_train:\n",
        "       #doc = doc.decode(\"utf8\")\n",
        "       tokens = word_tokenize(doc)\n",
        "       filtered = [word for word in tokens if word not in stop_words]\n",
        "       stemmed = [stemmer.stem(word) for word in filtered]\n",
        "       processed_docs_train.append(stemmed)\n",
        "   \n",
        "processed_docs_all = processed_docs_train\n",
        "\n",
        "dictionary = corpora.Dictionary(processed_docs_all)\n",
        "dictionary_size = len(dictionary.keys())\n",
        "print (\"dictionary size: \", dictionary_size )\n",
        "    \n",
        "word_id_train, word_id_len = [], []\n",
        "for doc in processed_docs_train:\n",
        "        word_ids = [dictionary.token2id[word] for word in doc]\n",
        "        word_id_train.append(word_ids)\n",
        "        word_id_len.append(len(word_ids))\n",
        "\n",
        "seq_len = np.round((np.mean(word_id_len) + 2*np.std(word_id_len))).astype(int)\n",
        "\n",
        "#pad sequences\n",
        "word_id_train = sequence.pad_sequences(np.array(word_id_train), maxlen=seq_len)\n",
        "     "
      ],
      "execution_count": 4,
      "outputs": [
        {
          "output_type": "stream",
          "text": [
            "[nltk_data] Downloading package stopwords to /root/nltk_data...\n",
            "[nltk_data]   Unzipping corpora/stopwords.zip.\n",
            "[nltk_data] Downloading package punkt to /root/nltk_data...\n",
            "[nltk_data]   Unzipping tokenizers/punkt.zip.\n",
            "dictionary size:  3468\n"
          ],
          "name": "stdout"
        }
      ]
    },
    {
      "cell_type": "code",
      "metadata": {
        "id": "l2pxJ-8H6ZCO",
        "colab_type": "code",
        "colab": {}
      },
      "source": [
        "num_labels = 3\n",
        "map_st = {'NONE':2,\n",
        "        'AGAINST': 1,\n",
        "        'FAVOR':0}\n",
        "classlabels1=[map_st[x] for x in classlabels1]\n",
        "y_train_enc = np_utils.to_categorical(classlabels1)"
      ],
      "execution_count": 5,
      "outputs": []
    },
    {
      "cell_type": "code",
      "metadata": {
        "id": "CAF_Oh_BvhI0",
        "colab_type": "code",
        "colab": {
          "base_uri": "https://localhost:8080/",
          "height": 51
        },
        "outputId": "4d043758-e049-4e9b-8065-4c45581994f1"
      },
      "source": [
        "m=len(classlabels1)\n",
        "cut=int(m*0.8)\n",
        "\n",
        "trainX=word_id_train[:cut]\n",
        "trainY=y_train_enc[:cut]\n",
        "\n",
        "testX= word_id_train[cut:]\n",
        "testY=y_train_enc[cut:]\n",
        "\n",
        "print(len(trainX))\n",
        "print(len(testX))"
      ],
      "execution_count": 6,
      "outputs": [
        {
          "output_type": "stream",
          "text": [
            "787\n",
            "197\n"
          ],
          "name": "stdout"
        }
      ]
    },
    {
      "cell_type": "code",
      "metadata": {
        "id": "PpZKhTWAelSZ",
        "colab_type": "code",
        "colab": {
          "base_uri": "https://localhost:8080/",
          "height": 105
        },
        "outputId": "7ead2db4-434d-441a-ce25-231d592bfb91"
      },
      "source": [
        "#LSTM\n",
        "dropout=0.4\n",
        "model = Sequential()\n",
        "model.add(Embedding(dictionary_size, 512, dropout=dropout))\n",
        "model.add(GRU(512, dropout_W=dropout, dropout_U=dropout))\n",
        "model.add(Dense(256))\n",
        "model.add(Dropout(dropout))\n",
        "model.add(Dense(128))\n",
        "model.add(Dense(num_labels))\n",
        "model.add(Activation('softmax'))\n",
        "    "
      ],
      "execution_count": 7,
      "outputs": [
        {
          "output_type": "stream",
          "text": [
            "/usr/local/lib/python3.6/dist-packages/ipykernel_launcher.py:4: UserWarning: The `dropout` argument is no longer support in `Embedding`. You can apply a `keras.layers.SpatialDropout1D` layer right after the `Embedding` layer to get the same behavior.\n",
            "  after removing the cwd from sys.path.\n",
            "/usr/local/lib/python3.6/dist-packages/ipykernel_launcher.py:5: UserWarning: Update your `GRU` call to the Keras 2 API: `GRU(512, dropout=0.4, recurrent_dropout=0.4)`\n",
            "  \"\"\"\n"
          ],
          "name": "stderr"
        }
      ]
    },
    {
      "cell_type": "code",
      "metadata": {
        "id": "mcixmspeuKNo",
        "colab_type": "code",
        "colab": {
          "base_uri": "https://localhost:8080/",
          "height": 391
        },
        "outputId": "6320dd13-87a3-469d-b48d-a5c6113259ec"
      },
      "source": [
        "opt= keras.optimizers.Adam(learning_rate=0.0001)\n",
        "model.compile(loss='categorical_crossentropy', optimizer=opt, metrics=['accuracy'])\n",
        "model.summary()"
      ],
      "execution_count": 8,
      "outputs": [
        {
          "output_type": "stream",
          "text": [
            "Model: \"sequential_1\"\n",
            "_________________________________________________________________\n",
            "Layer (type)                 Output Shape              Param #   \n",
            "=================================================================\n",
            "embedding_1 (Embedding)      (None, None, 512)         1775616   \n",
            "_________________________________________________________________\n",
            "gru_1 (GRU)                  (None, 512)               1574400   \n",
            "_________________________________________________________________\n",
            "dense_1 (Dense)              (None, 256)               131328    \n",
            "_________________________________________________________________\n",
            "dropout_1 (Dropout)          (None, 256)               0         \n",
            "_________________________________________________________________\n",
            "dense_2 (Dense)              (None, 128)               32896     \n",
            "_________________________________________________________________\n",
            "dense_3 (Dense)              (None, 3)                 387       \n",
            "_________________________________________________________________\n",
            "activation_1 (Activation)    (None, 3)                 0         \n",
            "=================================================================\n",
            "Total params: 3,514,627\n",
            "Trainable params: 3,514,627\n",
            "Non-trainable params: 0\n",
            "_________________________________________________________________\n"
          ],
          "name": "stdout"
        }
      ]
    },
    {
      "cell_type": "code",
      "metadata": {
        "id": "q8-crn_cJ3Se",
        "colab_type": "code",
        "colab": {
          "base_uri": "https://localhost:8080/",
          "height": 1000
        },
        "outputId": "7fad97d0-d6d3-46a2-f734-07492af5261d"
      },
      "source": [
        "import matplotlib.pyplot as plt\n",
        "\n",
        "history=model.fit(trainX, trainY, epochs=30, batch_size=100, validation_data=(testX,testY), verbose=1, shuffle=True)\n",
        "\n",
        "plt.plot(history.epoch, history.history['accuracy'])\n",
        "plt.plot(history.epoch, history.history['val_accuracy'])\n",
        "plt.plot(history.epoch, history.history['loss'])\n",
        "plt.plot(history.epoch, history.history['val_loss'])\n",
        "plt.legend(['Training Accuracy', 'Validation Accuracy', \n",
        "            'Training Loss', 'Validation Loss'])"
      ],
      "execution_count": 9,
      "outputs": [
        {
          "output_type": "stream",
          "text": [
            "/usr/local/lib/python3.6/dist-packages/tensorflow/python/framework/indexed_slices.py:434: UserWarning: Converting sparse IndexedSlices to a dense Tensor of unknown shape. This may consume a large amount of memory.\n",
            "  \"Converting sparse IndexedSlices to a dense Tensor of unknown shape. \"\n"
          ],
          "name": "stderr"
        },
        {
          "output_type": "stream",
          "text": [
            "Train on 787 samples, validate on 197 samples\n",
            "Epoch 1/30\n",
            "787/787 [==============================] - 9s 11ms/step - loss: 1.0447 - accuracy: 0.4892 - val_loss: 1.0388 - val_accuracy: 0.5787\n",
            "Epoch 2/30\n",
            "787/787 [==============================] - 8s 10ms/step - loss: 1.0121 - accuracy: 0.5731 - val_loss: 1.0247 - val_accuracy: 0.5787\n",
            "Epoch 3/30\n",
            "787/787 [==============================] - 8s 10ms/step - loss: 0.9873 - accuracy: 0.5718 - val_loss: 1.0174 - val_accuracy: 0.5787\n",
            "Epoch 4/30\n",
            "787/787 [==============================] - 8s 10ms/step - loss: 0.9765 - accuracy: 0.5731 - val_loss: 1.0071 - val_accuracy: 0.5787\n",
            "Epoch 5/30\n",
            "787/787 [==============================] - 7s 9ms/step - loss: 0.9645 - accuracy: 0.5756 - val_loss: 0.9980 - val_accuracy: 0.5787\n",
            "Epoch 6/30\n",
            "787/787 [==============================] - 7s 9ms/step - loss: 0.9632 - accuracy: 0.5756 - val_loss: 0.9925 - val_accuracy: 0.5787\n",
            "Epoch 7/30\n",
            "787/787 [==============================] - 7s 9ms/step - loss: 0.9494 - accuracy: 0.5693 - val_loss: 0.9862 - val_accuracy: 0.5787\n",
            "Epoch 8/30\n",
            "787/787 [==============================] - 7s 9ms/step - loss: 0.9360 - accuracy: 0.5731 - val_loss: 0.9803 - val_accuracy: 0.5787\n",
            "Epoch 9/30\n",
            "787/787 [==============================] - 7s 9ms/step - loss: 0.9335 - accuracy: 0.5642 - val_loss: 0.9778 - val_accuracy: 0.5787\n",
            "Epoch 10/30\n",
            "787/787 [==============================] - 8s 10ms/step - loss: 0.9172 - accuracy: 0.5832 - val_loss: 0.9722 - val_accuracy: 0.5787\n",
            "Epoch 11/30\n",
            "787/787 [==============================] - 8s 10ms/step - loss: 0.9085 - accuracy: 0.5794 - val_loss: 0.9697 - val_accuracy: 0.5787\n",
            "Epoch 12/30\n",
            "787/787 [==============================] - 7s 9ms/step - loss: 0.8802 - accuracy: 0.5845 - val_loss: 0.9659 - val_accuracy: 0.5787\n",
            "Epoch 13/30\n",
            "787/787 [==============================] - 7s 9ms/step - loss: 0.8867 - accuracy: 0.5769 - val_loss: 0.9631 - val_accuracy: 0.5787\n",
            "Epoch 14/30\n",
            "787/787 [==============================] - 7s 9ms/step - loss: 0.8480 - accuracy: 0.6163 - val_loss: 0.9608 - val_accuracy: 0.5787\n",
            "Epoch 15/30\n",
            "787/787 [==============================] - 8s 10ms/step - loss: 0.8250 - accuracy: 0.6137 - val_loss: 0.9585 - val_accuracy: 0.5787\n",
            "Epoch 16/30\n",
            "787/787 [==============================] - 7s 10ms/step - loss: 0.7765 - accuracy: 0.6518 - val_loss: 0.9539 - val_accuracy: 0.5787\n",
            "Epoch 17/30\n",
            "787/787 [==============================] - 7s 9ms/step - loss: 0.7447 - accuracy: 0.6531 - val_loss: 0.9499 - val_accuracy: 0.5787\n",
            "Epoch 18/30\n",
            "787/787 [==============================] - 7s 9ms/step - loss: 0.6904 - accuracy: 0.7103 - val_loss: 0.9459 - val_accuracy: 0.5787\n",
            "Epoch 19/30\n",
            "787/787 [==============================] - 7s 9ms/step - loss: 0.6586 - accuracy: 0.7090 - val_loss: 0.9406 - val_accuracy: 0.5787\n",
            "Epoch 20/30\n",
            "787/787 [==============================] - 7s 9ms/step - loss: 0.5938 - accuracy: 0.7598 - val_loss: 0.9338 - val_accuracy: 0.5787\n",
            "Epoch 21/30\n",
            "787/787 [==============================] - 8s 10ms/step - loss: 0.5358 - accuracy: 0.7827 - val_loss: 0.9282 - val_accuracy: 0.5736\n",
            "Epoch 22/30\n",
            "787/787 [==============================] - 7s 9ms/step - loss: 0.5016 - accuracy: 0.8018 - val_loss: 0.9225 - val_accuracy: 0.5736\n",
            "Epoch 23/30\n",
            "787/787 [==============================] - 8s 10ms/step - loss: 0.4138 - accuracy: 0.8412 - val_loss: 0.9159 - val_accuracy: 0.5736\n",
            "Epoch 24/30\n",
            "787/787 [==============================] - 7s 9ms/step - loss: 0.3714 - accuracy: 0.8729 - val_loss: 0.9105 - val_accuracy: 0.5736\n",
            "Epoch 25/30\n",
            "787/787 [==============================] - 7s 9ms/step - loss: 0.3050 - accuracy: 0.8971 - val_loss: 0.9038 - val_accuracy: 0.5736\n",
            "Epoch 26/30\n",
            "787/787 [==============================] - 8s 10ms/step - loss: 0.2585 - accuracy: 0.9098 - val_loss: 0.9013 - val_accuracy: 0.5888\n",
            "Epoch 27/30\n",
            "787/787 [==============================] - 7s 9ms/step - loss: 0.2437 - accuracy: 0.9111 - val_loss: 0.8971 - val_accuracy: 0.5888\n",
            "Epoch 28/30\n",
            "787/787 [==============================] - 7s 9ms/step - loss: 0.2124 - accuracy: 0.9263 - val_loss: 0.8956 - val_accuracy: 0.5939\n",
            "Epoch 29/30\n",
            "787/787 [==============================] - 7s 9ms/step - loss: 0.1945 - accuracy: 0.9377 - val_loss: 0.8930 - val_accuracy: 0.5888\n",
            "Epoch 30/30\n",
            "787/787 [==============================] - 7s 9ms/step - loss: 0.1749 - accuracy: 0.9416 - val_loss: 0.8923 - val_accuracy: 0.5888\n"
          ],
          "name": "stdout"
        },
        {
          "output_type": "execute_result",
          "data": {
            "text/plain": [
              "<matplotlib.legend.Legend at 0x7ff155531b38>"
            ]
          },
          "metadata": {
            "tags": []
          },
          "execution_count": 9
        },
        {
          "output_type": "display_data",
          "data": {
            "image/png": "[encoded data removed]",
            "text/plain": [
              "<Figure size 432x288 with 1 Axes>"
            ]
          },
          "metadata": {
            "tags": [],
            "needs_background": "light"
          }
        }
      ]
    },
    {
      "cell_type": "code",
      "metadata": {
        "id": "jFjm6Uzesqer",
        "colab_type": "code",
        "colab": {}
      },
      "source": [
        "class Metrics(callbacks.Callback):\n",
        "    def __init__(self, validation):   \n",
        "        super(Metrics, self).__init__()\n",
        "        self.validation = validation    \n",
        "            \n",
        "        print('validation shape', len(self.validation[0]))\n",
        "        \n",
        "    def on_train_begin(self, logs={}):        \n",
        "        self.val_f1s = []\n",
        "        self.val_recalls = []\n",
        "        self.val_precisions = []\n",
        "     \n",
        "    def on_epoch_end(self, epoch, logs={}):\n",
        "        val_targ = self.validation[1]   \n",
        "        val_predict = (np.asarray(self.model.predict(self.validation[0]))).round()        \n",
        "    \n",
        "        val_f1 = f1_score(val_targ, val_predict,average='macro')\n",
        "        val_recall = recall_score(val_targ, val_predict,average='macro')         \n",
        "        val_precision = precision_score(val_targ, val_predict,average='macro')\n",
        "        \n",
        "        self.val_f1s.append(round(val_f1, 6))\n",
        "        self.val_recalls.append(round(val_recall, 6))\n",
        "        self.val_precisions.append(round(val_precision, 6))\n",
        " \n",
        "        print(f' — val_f1: {val_f1} — val_precision: {val_precision}, — val_recall: {val_recall}')"
      ],
      "execution_count": 10,
      "outputs": []
    },
    {
      "cell_type": "code",
      "metadata": {
        "id": "jLrfcgaDuE8f",
        "colab_type": "code",
        "colab": {
          "base_uri": "https://localhost:8080/",
          "height": 1000
        },
        "outputId": "84d9a41c-5a3f-4a43-ca82-868b553b1657"
      },
      "source": [
        "model.compile(loss='binary_crossentropy', optimizer= keras.optimizers.Adam(learning_rate=0.0001), metrics=['accuracy'])  \n",
        "history=model.fit(trainX, trainY, epochs=30, batch_size=100,\n",
        "                  callbacks=[Metrics(validation=(testX, testY))],  \n",
        "                  verbose=1,shuffle=True)"
      ],
      "execution_count": 11,
      "outputs": [
        {
          "output_type": "stream",
          "text": [
            "validation shape 197\n"
          ],
          "name": "stdout"
        },
        {
          "output_type": "stream",
          "text": [
            "/usr/local/lib/python3.6/dist-packages/tensorflow/python/framework/indexed_slices.py:434: UserWarning: Converting sparse IndexedSlices to a dense Tensor of unknown shape. This may consume a large amount of memory.\n",
            "  \"Converting sparse IndexedSlices to a dense Tensor of unknown shape. \"\n"
          ],
          "name": "stderr"
        },
        {
          "output_type": "stream",
          "text": [
            "Epoch 1/30\n",
            "787/787 [==============================] - 9s 11ms/step - loss: 0.0971 - accuracy: 0.9678\n"
          ],
          "name": "stdout"
        },
        {
          "output_type": "stream",
          "text": [
            "/usr/local/lib/python3.6/dist-packages/sklearn/metrics/_classification.py:1272: UndefinedMetricWarning: Precision is ill-defined and being set to 0.0 in labels with no predicted samples. Use `zero_division` parameter to control this behavior.\n",
            "  _warn_prf(average, modifier, msg_start, len(result))\n"
          ],
          "name": "stderr"
        },
        {
          "output_type": "stream",
          "text": [
            " — val_f1: 0.23638778220451526 — val_precision: 0.2165450121654501, — val_recall: 0.260233918128655\n",
            "Epoch 2/30\n",
            "787/787 [==============================] - 8s 10ms/step - loss: 0.0913 - accuracy: 0.9712\n",
            " — val_f1: 0.24150943396226413 — val_precision: 0.2119205298013245, — val_recall: 0.2807017543859649\n",
            "Epoch 3/30\n",
            "787/787 [==============================] - 8s 10ms/step - loss: 0.0755 - accuracy: 0.9716\n",
            " — val_f1: 0.2717037037037037 — val_precision: 0.41568627450980394, — val_recall: 0.2777181047857739\n",
            "Epoch 4/30\n",
            "787/787 [==============================] - 8s 10ms/step - loss: 0.0753 - accuracy: 0.9771\n",
            " — val_f1: 0.2520062634566451 — val_precision: 0.32282282282282276, — val_recall: 0.281656522258026\n",
            "Epoch 5/30\n",
            "787/787 [==============================] - 8s 10ms/step - loss: 0.0600 - accuracy: 0.9805\n",
            " — val_f1: 0.28447475815896867 — val_precision: 0.5241436925647451, — val_recall: 0.27875009652984\n",
            "Epoch 6/30\n",
            "787/787 [==============================] - 8s 10ms/step - loss: 0.0532 - accuracy: 0.9784\n",
            " — val_f1: 0.30322383944431186 — val_precision: 0.6031746031746031, — val_recall: 0.30017270065921103\n",
            "Epoch 7/30\n",
            "787/787 [==============================] - 8s 10ms/step - loss: 0.0531 - accuracy: 0.9831\n",
            " — val_f1: 0.3054593054593055 — val_precision: 0.542528735632184, — val_recall: 0.3060978777475903\n",
            "Epoch 8/30\n",
            "787/787 [==============================] - 8s 10ms/step - loss: 0.0498 - accuracy: 0.9852\n",
            " — val_f1: 0.3169071169071169 — val_precision: 0.5647509578544061, — val_recall: 0.31290059883602567\n",
            "Epoch 9/30\n",
            "787/787 [==============================] - 8s 10ms/step - loss: 0.0356 - accuracy: 0.9907\n",
            " — val_f1: 0.31625230634518564 — val_precision: 0.5992907801418439, — val_recall: 0.30705264561965134\n",
            "Epoch 10/30\n",
            "787/787 [==============================] - 8s 10ms/step - loss: 0.0402 - accuracy: 0.9873\n",
            " — val_f1: 0.30477916561566754 — val_precision: 0.5436241610738254, — val_recall: 0.31186860709195957\n",
            "Epoch 11/30\n",
            "787/787 [==============================] - 8s 10ms/step - loss: 0.0315 - accuracy: 0.9907\n",
            " — val_f1: 0.3193660745384883 — val_precision: 0.54421768707483, — val_recall: 0.3187485520523999\n",
            "Epoch 12/30\n",
            "787/787 [==============================] - 8s 10ms/step - loss: 0.0361 - accuracy: 0.9860\n",
            " — val_f1: 0.3194139194139194 — val_precision: 0.5139160687105893, — val_recall: 0.3187485520523999\n",
            "Epoch 13/30\n",
            "787/787 [==============================] - 8s 10ms/step - loss: 0.0274 - accuracy: 0.9924\n",
            " — val_f1: 0.32088888888888895 — val_precision: 0.4758615567439097, — val_recall: 0.3080074134917125\n",
            "Epoch 14/30\n",
            "787/787 [==============================] - 8s 10ms/step - loss: 0.0273 - accuracy: 0.9915\n",
            " — val_f1: 0.3216013418079096 — val_precision: 0.486697965571205, — val_recall: 0.3138553667080867\n",
            "Epoch 15/30\n",
            "787/787 [==============================] - 8s 10ms/step - loss: 0.0216 - accuracy: 0.9953\n",
            " — val_f1: 0.32594671656419855 — val_precision: 0.5069444444444444, — val_recall: 0.31970331992446105\n",
            "Epoch 16/30\n",
            "787/787 [==============================] - 8s 10ms/step - loss: 0.0220 - accuracy: 0.9936\n",
            " — val_f1: 0.3192586764577323 — val_precision: 0.4606835950119532, — val_recall: 0.30508343688352535\n",
            "Epoch 17/30\n",
            "787/787 [==============================] - 8s 10ms/step - loss: 0.0183 - accuracy: 0.9941\n",
            " — val_f1: 0.3173978451804164 — val_precision: 0.4630325814536341, — val_recall: 0.3021594602753382\n",
            "Epoch 18/30\n",
            "787/787 [==============================] - 8s 10ms/step - loss: 0.0185 - accuracy: 0.9941\n",
            " — val_f1: 0.32645615733942374 — val_precision: 0.46211683053788316, — val_recall: 0.30896218136377357\n",
            "Epoch 19/30\n",
            "787/787 [==============================] - 8s 10ms/step - loss: 0.0218 - accuracy: 0.9920\n",
            " — val_f1: 0.356010813209869 — val_precision: 0.49666844349680167, — val_recall: 0.3322943212372668\n",
            "Epoch 20/30\n",
            "787/787 [==============================] - 8s 10ms/step - loss: 0.0112 - accuracy: 0.9979\n",
            " — val_f1: 0.35166065928134543 — val_precision: 0.49796119235095615, — val_recall: 0.3205984148045183\n",
            "Epoch 21/30\n",
            "787/787 [==============================] - 8s 10ms/step - loss: 0.0160 - accuracy: 0.9941\n",
            " — val_f1: 0.3520795538533898 — val_precision: 0.4878545168067227, — val_recall: 0.32352239141270545\n",
            "Epoch 22/30\n",
            "787/787 [==============================] - 8s 10ms/step - loss: 0.0095 - accuracy: 0.9987\n",
            " — val_f1: 0.3538820910094623 — val_precision: 0.48876294703928086, — val_recall: 0.32644636802089255\n",
            "Epoch 23/30\n",
            "787/787 [==============================] - 8s 10ms/step - loss: 0.0120 - accuracy: 0.9975\n",
            " — val_f1: 0.35542941611234297 — val_precision: 0.4849439775910364, — val_recall: 0.33521829784545404\n",
            "Epoch 24/30\n",
            "787/787 [==============================] - 8s 10ms/step - loss: 0.0144 - accuracy: 0.9970\n",
            " — val_f1: 0.37365847963457527 — val_precision: 0.5266119221411193, — val_recall: 0.34794619602226856\n",
            "Epoch 25/30\n",
            "787/787 [==============================] - 8s 10ms/step - loss: 0.0149 - accuracy: 0.9949\n",
            " — val_f1: 0.37181079789775434 — val_precision: 0.5235311750599521, — val_recall: 0.34794619602226856\n",
            "Epoch 26/30\n",
            "787/787 [==============================] - 8s 10ms/step - loss: 0.0123 - accuracy: 0.9966\n",
            " — val_f1: 0.3575077560730359 — val_precision: 0.49313998649105034, — val_recall: 0.34106625106182825\n",
            "Epoch 27/30\n",
            "787/787 [==============================] - 8s 10ms/step - loss: 0.0153 - accuracy: 0.9958\n",
            " — val_f1: 0.37304724261246 — val_precision: 0.5148998448300183, — val_recall: 0.3508701726304557\n",
            "Epoch 28/30\n",
            "787/787 [==============================] - 8s 10ms/step - loss: 0.0087 - accuracy: 0.9979\n",
            " — val_f1: 0.3552002494456763 — val_precision: 0.4806288712668166, — val_recall: 0.34106625106182825\n",
            "Epoch 29/30\n",
            "787/787 [==============================] - 8s 10ms/step - loss: 0.0090 - accuracy: 0.9975\n",
            " — val_f1: 0.3852468912229869 — val_precision: 0.5239158437097466, — val_recall: 0.357750117590896\n",
            "Epoch 30/30\n",
            "787/787 [==============================] - 8s 10ms/step - loss: 0.0065 - accuracy: 0.9987\n",
            " — val_f1: 0.3852468912229869 — val_precision: 0.5239158437097466, — val_recall: 0.357750117590896\n"
          ],
          "name": "stdout"
        }
      ]
    }
  ]
}